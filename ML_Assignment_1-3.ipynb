{
  "nbformat": 4,
  "nbformat_minor": 0,
  "metadata": {
    "colab": {
      "provenance": []
    },
    "kernelspec": {
      "name": "python3",
      "display_name": "Python 3"
    },
    "language_info": {
      "name": "python"
    }
  },
  "cells": [
    {
      "cell_type": "code",
      "execution_count": 1,
      "metadata": {
        "id": "cfhfGzENjAoL"
      },
      "outputs": [],
      "source": [
        "import tensorflow as tf  # Import TensorFlow library for building and training machine learning models\n",
        "import matplotlib.pyplot as plt  # Import Matplotlib's pyplot module for data visualization (plotting graphs/images)\n"
      ]
    },
    {
      "cell_type": "markdown",
      "source": [
        "###  Step 1: Import Libraries\n",
        "\n",
        "- `tensorflow` is a popular open-source deep learning library.\n",
        "- `matplotlib.pyplot` helps us visualize digit images."
      ],
      "metadata": {
        "id": "RnVU-7WNkKbp"
      }
    },
    {
      "cell_type": "code",
      "source": [
        "mnist = tf.keras.datasets.mnist  # Load the MNIST dataset (handwritten digit images) from TensorFlow's built-in datasets\n"
      ],
      "metadata": {
        "id": "bsJOEz9Cjetz"
      },
      "execution_count": 2,
      "outputs": []
    },
    {
      "cell_type": "markdown",
      "source": [
        "###  Step 2: Load the MNIST Dataset\n",
        "\n",
        "- TensorFlow provides the MNIST dataset, which contains 70,000 handwritten digit images (28x28 pixels)."
      ],
      "metadata": {
        "id": "aLnHfuxakO0Z"
      }
    },
    {
      "cell_type": "code",
      "source": [
        "(x_train, y_train), (x_test, y_test) = mnist.load_data()  # Load MNIST data into training and testing sets; x = images, y = labels\n"
      ],
      "metadata": {
        "colab": {
          "base_uri": "https://localhost:8080/"
        },
        "id": "-KudgPrmjvin",
        "outputId": "4b694a22-96cb-4280-940f-379ee791f6fd"
      },
      "execution_count": 3,
      "outputs": [
        {
          "output_type": "stream",
          "name": "stdout",
          "text": [
            "Downloading data from https://storage.googleapis.com/tensorflow/tf-keras-datasets/mnist.npz\n",
            "\u001b[1m11490434/11490434\u001b[0m \u001b[32m━━━━━━━━━━━━━━━━━━━━\u001b[0m\u001b[37m\u001b[0m \u001b[1m0s\u001b[0m 0us/step\n"
          ]
        }
      ]
    },
    {
      "cell_type": "markdown",
      "source": [
        "###  Step 3: Split the Dataset\n",
        "\n",
        "- `x_train`, `y_train`: 60,000 training images and labels.\n",
        "- `x_test`, `y_test`: 10,000 testing images and labels.\n"
      ],
      "metadata": {
        "id": "CtGFECuLke38"
      }
    },
    {
      "cell_type": "code",
      "source": [
        "x_train = x_train / 255.0  # Normalize training images to range [0, 1] for better model performance\n",
        "x_test = x_test / 255.0    # Normalize testing images to range [0, 1] for consistency during evaluation\n"
      ],
      "metadata": {
        "id": "XAVtGddSkmEp"
      },
      "execution_count": 4,
      "outputs": []
    },
    {
      "cell_type": "markdown",
      "source": [
        "###  Step 4: Normalize the Data\n",
        "\n",
        "- Image pixels range from 0 to 255.\n",
        "- We scale them to 0–1 range to improve model training.\n"
      ],
      "metadata": {
        "id": "_yDSLgJgk2w8"
      }
    },
    {
      "cell_type": "code",
      "source": [
        "model = tf.keras.models.Sequential([  # Create a Sequential model (layers are stacked in sequence)\n",
        "    tf.keras.layers.Flatten(input_shape=(28, 28)),  # Flatten 28x28 images into a 1D array of 784 pixels\n",
        "    tf.keras.layers.Dense(128, activation='relu'),  # Fully connected layer with 128 neurons, using ReLU activation\n",
        "    tf.keras.layers.Dense(10, activation='softmax') # Output layer with 10 neurons (one for each digit 0-9), using softmax for probability distribution\n",
        "])\n"
      ],
      "metadata": {
        "colab": {
          "base_uri": "https://localhost:8080/"
        },
        "id": "oPa0pZPslTum",
        "outputId": "18796289-ee1b-4bfa-fc42-4852e1d5b70a"
      },
      "execution_count": 5,
      "outputs": [
        {
          "output_type": "stream",
          "name": "stderr",
          "text": [
            "/usr/local/lib/python3.11/dist-packages/keras/src/layers/reshaping/flatten.py:37: UserWarning: Do not pass an `input_shape`/`input_dim` argument to a layer. When using Sequential models, prefer using an `Input(shape)` object as the first layer in the model instead.\n",
            "  super().__init__(**kwargs)\n"
          ]
        }
      ]
    },
    {
      "cell_type": "markdown",
      "source": [
        "###  Step 5: Build the Neural Network\n",
        "\n",
        "- `Flatten`: Converts 2D image (28x28) to 1D array (784).\n",
        "- `Dense(128, relu)`: Hidden layer with 128 neurons using ReLU activation.\n",
        "- `Dense(10, softmax)`: Output layer with 10 neurons for 10 digits (0–9), using softmax to give probabilities.\n"
      ],
      "metadata": {
        "id": "PrsWzBiWlZ31"
      }
    },
    {
      "cell_type": "code",
      "source": [
        "model.compile(optimizer='adam',                      # Use Adam optimizer to adjust weights during training\n",
        "              loss='sparse_categorical_crossentropy', # Loss function for multi-class classification with integer labels\n",
        "              metrics=['accuracy'])                   # Track accuracy as the evaluation metric\n"
      ],
      "metadata": {
        "id": "Q7bpdDutlg3_"
      },
      "execution_count": 6,
      "outputs": []
    },
    {
      "cell_type": "markdown",
      "source": [
        "###  Step 6: Compile the Model\n",
        "\n",
        "- `optimizer='adam'`: Efficient optimizer for training.\n",
        "- `loss='sparse_categorical_crossentropy'`: Used when labels are integers.\n",
        "- `metrics=['accuracy']`: Track accuracy during training/testing.\n"
      ],
      "metadata": {
        "id": "sg6x-AdNl6oQ"
      }
    },
    {
      "cell_type": "code",
      "source": [
        "model.fit(x_train, y_train, epochs=5)  # Train the model on training data for 5 complete passes (epochs) over the dataset\n"
      ],
      "metadata": {
        "colab": {
          "base_uri": "https://localhost:8080/"
        },
        "id": "Ni4TZnsdl9On",
        "outputId": "d23c5fb8-c293-415c-b94a-f466a68da507"
      },
      "execution_count": 7,
      "outputs": [
        {
          "output_type": "stream",
          "name": "stdout",
          "text": [
            "Epoch 1/5\n",
            "\u001b[1m1875/1875\u001b[0m \u001b[32m━━━━━━━━━━━━━━━━━━━━\u001b[0m\u001b[37m\u001b[0m \u001b[1m12s\u001b[0m 5ms/step - accuracy: 0.8780 - loss: 0.4302\n",
            "Epoch 2/5\n",
            "\u001b[1m1875/1875\u001b[0m \u001b[32m━━━━━━━━━━━━━━━━━━━━\u001b[0m\u001b[37m\u001b[0m \u001b[1m10s\u001b[0m 5ms/step - accuracy: 0.9637 - loss: 0.1240\n",
            "Epoch 3/5\n",
            "\u001b[1m1875/1875\u001b[0m \u001b[32m━━━━━━━━━━━━━━━━━━━━\u001b[0m\u001b[37m\u001b[0m \u001b[1m9s\u001b[0m 5ms/step - accuracy: 0.9754 - loss: 0.0814\n",
            "Epoch 4/5\n",
            "\u001b[1m1875/1875\u001b[0m \u001b[32m━━━━━━━━━━━━━━━━━━━━\u001b[0m\u001b[37m\u001b[0m \u001b[1m8s\u001b[0m 4ms/step - accuracy: 0.9827 - loss: 0.0559\n",
            "Epoch 5/5\n",
            "\u001b[1m1875/1875\u001b[0m \u001b[32m━━━━━━━━━━━━━━━━━━━━\u001b[0m\u001b[37m\u001b[0m \u001b[1m10s\u001b[0m 4ms/step - accuracy: 0.9871 - loss: 0.0430\n"
          ]
        },
        {
          "output_type": "execute_result",
          "data": {
            "text/plain": [
              "<keras.src.callbacks.history.History at 0x79edc4060b10>"
            ]
          },
          "metadata": {},
          "execution_count": 7
        }
      ]
    },
    {
      "cell_type": "markdown",
      "source": [
        "###  Step 7: Train the Model\n",
        "\n",
        "- We train the model using the training data for 5 epochs (5 full passes through the data).\n"
      ],
      "metadata": {
        "id": "9HzvvpKTmMf-"
      }
    },
    {
      "cell_type": "code",
      "source": [
        "test_loss, test_acc = model.evaluate(x_test, y_test)  # Evaluate the model on the test dataset to get loss and accuracy\n",
        "print('\\nTest Accuracy:', test_acc)  # Display the accuracy of the model on unseen test data\n"
      ],
      "metadata": {
        "colab": {
          "base_uri": "https://localhost:8080/"
        },
        "id": "uPuA4MQrmOSj",
        "outputId": "05926886-cf67-4dd6-e00c-f7927f1899fb"
      },
      "execution_count": 8,
      "outputs": [
        {
          "output_type": "stream",
          "name": "stdout",
          "text": [
            "\u001b[1m313/313\u001b[0m \u001b[32m━━━━━━━━━━━━━━━━━━━━\u001b[0m\u001b[37m\u001b[0m \u001b[1m1s\u001b[0m 3ms/step - accuracy: 0.9713 - loss: 0.0919\n",
            "\n",
            "Test Accuracy: 0.9750999808311462\n"
          ]
        }
      ]
    },
    {
      "cell_type": "markdown",
      "source": [
        "###  Step 8: Evaluate the Model\n",
        "\n",
        "- `evaluate()` tests model performance on unseen test data.\n",
        "- Returns the loss and accuracy of the model.\n"
      ],
      "metadata": {
        "id": "Y6S6blz2mmOU"
      }
    },
    {
      "cell_type": "code",
      "source": [
        "predictions = model.predict(x_test)  # Generate predicted probabilities for each class on the test dataset\n"
      ],
      "metadata": {
        "colab": {
          "base_uri": "https://localhost:8080/"
        },
        "id": "oVyEmnHdmuWo",
        "outputId": "056ecdb9-5428-431f-be03-84defc85fb44"
      },
      "execution_count": 9,
      "outputs": [
        {
          "output_type": "stream",
          "name": "stdout",
          "text": [
            "\u001b[1m313/313\u001b[0m \u001b[32m━━━━━━━━━━━━━━━━━━━━\u001b[0m\u001b[37m\u001b[0m \u001b[1m1s\u001b[0m 2ms/step\n"
          ]
        }
      ]
    },
    {
      "cell_type": "markdown",
      "source": [
        "###  Step 9: Predict Digits\n",
        "\n",
        "- Generates predictions for each image in the test set.\n",
        "- Each prediction gives probability values for digits 0 through 9.\n"
      ],
      "metadata": {
        "id": "4jE7DFPOm_CE"
      }
    },
    {
      "cell_type": "code",
      "source": [
        "plt.imshow(x_test[0], cmap=plt.cm.binary)  # Display the first test image in black-and-white (binary) color map\n",
        "plt.title(f\"Model Prediction: {tf.argmax(predictions[0])}, Actual: {y_test[0]}\")  # Set title showing predicted class and actual label\n",
        "plt.axis('off')  # Hide the axis for cleaner visualization\n",
        "plt.show()  # Display the image with the title\n"
      ],
      "metadata": {
        "colab": {
          "base_uri": "https://localhost:8080/",
          "height": 428
        },
        "id": "zHFfaPbPnD2q",
        "outputId": "e7ae0c9f-b5f4-487b-8c7a-ca9c67110d97"
      },
      "execution_count": 10,
      "outputs": [
        {
          "output_type": "display_data",
          "data": {
            "text/plain": [
              "<Figure size 640x480 with 1 Axes>"
            ],
            "image/png": "[encoded data removed]"
          },
          "metadata": {}
        }
      ]
    },
    {
      "cell_type": "markdown",
      "source": [
        "###  Step 10: Visualize the Prediction\n",
        "\n",
        "- Shows the first digit from the test set.\n",
        "- Displays the predicted digit and actual digit for comparison.\n"
      ],
      "metadata": {
        "id": "GOEkWQ-jnQoq"
      }
    }
  ]
}